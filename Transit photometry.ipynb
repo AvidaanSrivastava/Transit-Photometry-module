{
 "cells": [
  {
   "cell_type": "code",
   "execution_count": 1,
   "id": "396d2a79",
   "metadata": {},
   "outputs": [],
   "source": [
    "from astropy.io import fits\n",
    "import numpy as np\n",
    "from scipy import ndimage \n",
    "import matplotlib \n",
    "import matplotlib.pyplot as plt \n",
    "from matplotlib.patches import Circle, Wedge, Polygon"
   ]
  },
  {
   "cell_type": "code",
   "execution_count": 2,
   "id": "abb6ba8c",
   "metadata": {},
   "outputs": [],
   "source": [
    "image_data = fits.getdata('ECAM.2021-02-18T00_49_59.000.fits')"
   ]
  },
  {
   "cell_type": "code",
   "execution_count": 3,
   "id": "0214e8e6",
   "metadata": {},
   "outputs": [
    {
     "data": {
      "text/plain": [
       "array([[333, 345, 352, ..., 329, 328, 331],\n",
       "       [362, 370, 368, ..., 331, 336, 328],\n",
       "       [366, 367, 369, ..., 334, 330, 336],\n",
       "       ...,\n",
       "       [514, 408, 404, ..., 400, 398, 399],\n",
       "       [511, 413, 410, ..., 401, 400, 400],\n",
       "       [512, 412, 407, ..., 402, 400, 399]], dtype=uint16)"
      ]
     },
     "execution_count": 3,
     "metadata": {},
     "output_type": "execute_result"
    }
   ],
   "source": [
    "image_data"
   ]
  },
  {
   "cell_type": "code",
   "execution_count": 4,
   "id": "253cf367",
   "metadata": {},
   "outputs": [
    {
     "data": {
      "text/plain": [
       "<matplotlib.image.AxesImage at 0x7f1f5a2948e0>"
      ]
     },
     "execution_count": 4,
     "metadata": {},
     "output_type": "execute_result"
    },
    {
     "data": {
      "image/png": "[encoded data removed]",
      "text/plain": [
       "<Figure size 432x288 with 1 Axes>"
      ]
     },
     "metadata": {
      "needs_background": "light"
     },
     "output_type": "display_data"
    }
   ],
   "source": [
    "fig, ax1 = plt.subplots(1)\n",
    "ax1.imshow(image_data, cmap = 'gray', vmin = 300, vmax = 600, origin = 'lower')"
   ]
  },
  {
   "cell_type": "code",
   "execution_count": 5,
   "id": "d9973184",
   "metadata": {},
   "outputs": [
    {
     "data": {
      "text/plain": [
       "<function TextIOWrapper.close()>"
      ]
     },
     "execution_count": 5,
     "metadata": {},
     "output_type": "execute_result"
    }
   ],
   "source": [
    "f = open('biaslist.txt', 'r')\n",
    "bias = f.read().splitlines()\n",
    "f.close\n",
    "\n",
    "f = open('flatlist.txt', 'r')\n",
    "flat = f.read().splitlines()\n",
    "f.close\n",
    "\n",
    "f = open('rawlist.txt', 'r')\n",
    "raw = f.read().splitlines()\n",
    "f.close"
   ]
  },
  {
   "cell_type": "code",
   "execution_count": 6,
   "id": "710fb3ad",
   "metadata": {},
   "outputs": [
    {
     "name": "stdout",
     "output_type": "stream",
     "text": [
      "69\n",
      "5\n",
      "9\n"
     ]
    }
   ],
   "source": [
    "print(len(raw))\n",
    "print(len(flat))\n",
    "print(len(bias))"
   ]
  },
  {
   "cell_type": "code",
   "execution_count": 7,
   "id": "c04043dd",
   "metadata": {},
   "outputs": [
    {
     "name": "stdout",
     "output_type": "stream",
     "text": [
      "[[323 342 358 ... 340 344 337]\n",
      " [376 378 375 ... 335 342 341]\n",
      " [379 375 376 ... 345 340 347]\n",
      " ...\n",
      " [484 382 377 ... 377 373 376]\n",
      " [483 382 381 ... 378 378 373]\n",
      " [487 387 384 ... 379 372 374]]\n"
     ]
    }
   ],
   "source": [
    "i = fits.getdata(flat[0])\n",
    "#print((i - i)/2)\n",
    "print(i)"
   ]
  },
  {
   "cell_type": "code",
   "execution_count": null,
   "id": "f41513cb",
   "metadata": {},
   "outputs": [],
   "source": []
  },
  {
   "cell_type": "code",
   "execution_count": 8,
   "id": "6051c860",
   "metadata": {},
   "outputs": [],
   "source": [
    "def avg_pixel(file_list):\n",
    "    \n",
    "    ex = fits.getdata(file_list[0])\n",
    "    sum_arr = (ex - ex)/2\n",
    "    \n",
    "    for i in range(len(file_list)):\n",
    "        \n",
    "        openfile = fits.getdata(file_list[i])\n",
    "        \n",
    "        sum_arr = sum_arr + openfile\n",
    "    \n",
    "    avg = sum_arr / len(file_list)\n",
    "    \n",
    "    return avg"
   ]
  },
  {
   "cell_type": "code",
   "execution_count": 9,
   "id": "8402f605",
   "metadata": {},
   "outputs": [
    {
     "name": "stdout",
     "output_type": "stream",
     "text": [
      "[[341.44444444 353.55555556 358.55555556 ... 330.         331.77777778\n",
      "  332.22222222]\n",
      " [370.66666667 370.55555556 369.77777778 ... 333.         331.33333333\n",
      "  329.66666667]\n",
      " [373.         372.77777778 372.88888889 ... 333.         333.22222222\n",
      "  332.33333333]\n",
      " ...\n",
      " [526.         419.77777778 415.77777778 ... 408.88888889 408.44444444\n",
      "  408.33333333]\n",
      " [526.33333333 420.33333333 414.66666667 ... 408.11111111 409.22222222\n",
      "  407.66666667]\n",
      " [527.22222222 418.88888889 415.44444444 ... 409.44444444 407.11111111\n",
      "  407.44444444]]\n"
     ]
    }
   ],
   "source": [
    "masterbias = avg_pixel(bias)\n",
    "print(masterbias)"
   ]
  },
  {
   "cell_type": "code",
   "execution_count": 10,
   "id": "b05fc8f7",
   "metadata": {},
   "outputs": [],
   "source": [
    "def flat_field(file_list):\n",
    "       \n",
    "    corrected_flatfields = []\n",
    "    \n",
    "    for i in range(len(file_list)):\n",
    "        \n",
    "        openfile = fits.getdata(file_list[i])\n",
    "        \n",
    "        corrected = openfile - masterbias\n",
    "        \n",
    "        corrected_flatfields.append(corrected)\n",
    "    \n",
    "    sum_arr = (corrected_flatfields[0] - corrected_flatfields[0])\n",
    "    \n",
    "    for i in range(len(corrected_flatfields)):\n",
    "        \n",
    "        sum_arr = corrected_flatfields[i] + sum_arr\n",
    "    \n",
    "    avg = sum_arr / len(corrected_flatfields)\n",
    "    \n",
    "    return corrected_flatfields, avg"
   ]
  },
  {
   "cell_type": "code",
   "execution_count": 11,
   "id": "6286160e",
   "metadata": {},
   "outputs": [
    {
     "name": "stdout",
     "output_type": "stream",
     "text": [
      "4312\n",
      "[-67.53333333 -66.88888889 -64.28888889 ... -29.04444444 -16.4\n",
      "  14.37777778]\n",
      "4296\n"
     ]
    }
   ],
   "source": [
    "l = int(len((flat_field(flat)[1]))/2)\n",
    "\n",
    "print(len((flat_field(flat)[1])))\n",
    "print(flat_field(flat)[1][l-500:l+500:][0])\n",
    "\n",
    "print(len(flat_field(flat)[1][l-500:l+500:][0]))"
   ]
  },
  {
   "cell_type": "code",
   "execution_count": 12,
   "id": "1ecf93dc",
   "metadata": {},
   "outputs": [
    {
     "name": "stdout",
     "output_type": "stream",
     "text": [
      "4312\n"
     ]
    }
   ],
   "source": [
    "x = flat_field(flat)[1]\n",
    "print(len(x))"
   ]
  },
  {
   "cell_type": "code",
   "execution_count": 13,
   "id": "85c0aadc",
   "metadata": {},
   "outputs": [],
   "source": [
    "# def normalize_center(data):\n",
    "    \n",
    "#     half_pixels_each_col = int(len(data[0]))/2\n",
    "#     arr = []\n",
    "        \n",
    "#     for i in range(len(data))\n",
    "#         middle = data[l - 500:l+500] - data[0][l - 500:l+500]\n",
    "    \n",
    "#     norm = np.average(norm)\n",
    "#     return norm"
   ]
  },
  {
   "cell_type": "code",
   "execution_count": 14,
   "id": "4a09b0f6",
   "metadata": {},
   "outputs": [
    {
     "name": "stdout",
     "output_type": "stream",
     "text": [
      "(1000, 1000)\n"
     ]
    }
   ],
   "source": [
    "avg_flat = flat_field(flat)[1]\n",
    "\n",
    "half_pixels_each_col = int(len(avg_flat)/2)\n",
    "new_avg_flat = avg_flat[half_pixels_each_col - 500:half_pixels_each_col+500]\n",
    "\n",
    "final_avg_flat = []\n",
    "\n",
    "for i in new_avg_flat:\n",
    "    half_pixels = int(len(i)/2)\n",
    "    \n",
    "    middle = i[half_pixels - 500:half_pixels + 500]\n",
    "    \n",
    "    final_avg_flat.append(middle)\n",
    "    \n",
    "print(np.shape(final_avg_flat))\n",
    "\n",
    "avg_middle = np.average(final_avg_flat)\n",
    "\n",
    "normalized_flat = avg_flat / avg_middle\n",
    "\n",
    "normalized_flat[np.where(normalized_flat == 0)] = 10 ** (-6)  ## Normalized flatfield"
   ]
  },
  {
   "cell_type": "code",
   "execution_count": null,
   "id": "fd3bdcff",
   "metadata": {},
   "outputs": [],
   "source": []
  },
  {
   "cell_type": "code",
   "execution_count": 15,
   "id": "a7c2cb0b",
   "metadata": {},
   "outputs": [],
   "source": [
    "corrected_image = (image_data - masterbias) / normalized_flat"
   ]
  },
  {
   "cell_type": "code",
   "execution_count": 16,
   "id": "dbeb3cdf",
   "metadata": {},
   "outputs": [
    {
     "data": {
      "text/plain": [
       "<matplotlib.image.AxesImage at 0x7f1f5814ecd0>"
      ]
     },
     "execution_count": 16,
     "metadata": {},
     "output_type": "execute_result"
    },
    {
     "data": {
      "image/png": "[encoded data removed]",
      "text/plain": [
       "<Figure size 432x288 with 1 Axes>"
      ]
     },
     "metadata": {
      "needs_background": "light"
     },
     "output_type": "display_data"
    }
   ],
   "source": [
    "fig, ax1 = plt.subplots(1)\n",
    "ax1.imshow(corrected_image, cmap = 'gray', vmin = 300, vmax = 600, origin = 'lower')\n",
    "\n",
    "#fits.writeto('test1.fits', corrected_image)"
   ]
  },
  {
   "cell_type": "code",
   "execution_count": 17,
   "id": "544cb816",
   "metadata": {},
   "outputs": [
    {
     "data": {
      "text/plain": [
       "<matplotlib.image.AxesImage at 0x7f1f5808d100>"
      ]
     },
     "execution_count": 17,
     "metadata": {},
     "output_type": "execute_result"
    },
    {
     "data": {
      "image/png": "[encoded data removed]",
      "text/plain": [
       "<Figure size 432x288 with 1 Axes>"
      ]
     },
     "metadata": {
      "needs_background": "light"
     },
     "output_type": "display_data"
    }
   ],
   "source": [
    "## Removing borders\n",
    "l1 = int(len(corrected_image))\n",
    "corrected_image = corrected_image[100:l1 - 100]\n",
    "\n",
    "borderless_image = []\n",
    "\n",
    "for i in corrected_image:\n",
    "    \n",
    "    l2 = int(len(i))\n",
    "    borderless = i[100:l2-100]\n",
    "    \n",
    "    borderless_image.append(borderless)\n",
    "    \n",
    "fig, ax1 = plt.subplots(1)\n",
    "ax1.imshow(borderless_image, cmap = 'gray', vmin = 300, vmax = 600, origin = 'lower')"
   ]
  },
  {
   "cell_type": "code",
   "execution_count": 18,
   "id": "a9e02349",
   "metadata": {},
   "outputs": [],
   "source": [
    "# ## Saving all good images\n",
    "\n",
    "# for i in range(len(raw)):\n",
    "    \n",
    "#     image_data = fits.getdata(str(raw[i]))\n",
    "    \n",
    "#     corrected_image = (image_data - masterbias) / normalized_flat\n",
    "    \n",
    "#     l1 = int(len(corrected_image))\n",
    "#     corrected_image = corrected_image[100:l1 - 100]\n",
    "\n",
    "#     borderless_image = []\n",
    "\n",
    "#     for j in corrected_image:\n",
    "\n",
    "#         l2 = int(len(j))\n",
    "#         borderless = j[100:l2-100]\n",
    "\n",
    "#         borderless_image.append(borderless)\n",
    "\n",
    "# #     fig, ax1 = plt.subplots(1)\n",
    "# #     ax1.imshow(borderless_image, cmap = 'gray', vmin = 300, vmax = 600, origin = 'lower')\n",
    "    \n",
    "#     borderless_image = np.array(borderless_image)\n",
    "    \n",
    "#     fits.writeto(str(raw[i])+'red.fits', borderless_image)"
   ]
  },
  {
   "cell_type": "code",
   "execution_count": 19,
   "id": "f0bbf325",
   "metadata": {},
   "outputs": [
    {
     "data": {
      "text/plain": [
       "(2400.0, 2500.0)"
      ]
     },
     "execution_count": 19,
     "metadata": {},
     "output_type": "execute_result"
    },
    {
     "data": {
      "text/plain": [
       "<Figure size 432x288 with 0 Axes>"
      ]
     },
     "metadata": {},
     "output_type": "display_data"
    },
    {
     "data": {
      "image/png": "[encoded data removed]",
      "text/plain": [
       "<Figure size 432x288 with 1 Axes>"
      ]
     },
     "metadata": {
      "needs_background": "light"
     },
     "output_type": "display_data"
    }
   ],
   "source": [
    "image_data = fits.getdata('ECAM.2021-02-18T02_37_45.000.fitsred.fits')\n",
    "\n",
    "plt.figure()\n",
    "fig, ax1 = plt.subplots(1)\n",
    "ax1.imshow(image_data, cmap = 'gray', vmin = 300, vmax = 600, origin = 'lower')\n",
    "ax1.set_xlim(500,600)\n",
    "ax1.set_ylim(2400, 2500)"
   ]
  },
  {
   "cell_type": "code",
   "execution_count": 58,
   "id": "77c9b4d6",
   "metadata": {},
   "outputs": [
    {
     "name": "stderr",
     "output_type": "stream",
     "text": [
      "<ipython-input-58-5094a365db62>:2: DeprecationWarning: Please use `center_of_mass` from the `scipy.ndimage` namespace, the `scipy.ndimage.measurements` namespace is deprecated.\n",
      "  cenx, ceny = ndimage.measurements.center_of_mass(subimage)\n"
     ]
    },
    {
     "data": {
      "text/plain": [
       "<matplotlib.patches.Wedge at 0x7f1f51b2bb80>"
      ]
     },
     "execution_count": 58,
     "metadata": {},
     "output_type": "execute_result"
    },
    {
     "data": {
      "text/plain": [
       "<Figure size 432x288 with 0 Axes>"
      ]
     },
     "metadata": {},
     "output_type": "display_data"
    },
    {
     "data": {
      "image/png": "[encoded data removed]",
      "text/plain": [
       "<Figure size 432x288 with 1 Axes>"
      ]
     },
     "metadata": {
      "needs_background": "light"
     },
     "output_type": "display_data"
    }
   ],
   "source": [
    "subimage = image_data[2358:2558, 451:651]\n",
    "cenx, ceny = ndimage.measurements.center_of_mass(subimage)\n",
    "\n",
    "plt.figure()\n",
    "fig, ax2 = plt.subplots(1)\n",
    "ax2.imshow(subimage, cmap = 'gray', vmin = 30, vmax = 300, origin = 'lower')\n",
    "#ax2.scatter(cenx, ceny, 10)\n",
    "Aperture = Wedge((cenx, ceny), 35, 0, 360, width = 0.5, color = 'red')\n",
    "SkyAnnulus1 = Wedge((cenx, ceny), 75, 0, 360, width = 0.5, color = 'yellow')\n",
    "SkyAnnulus2 = Wedge((cenx, ceny), 85, 0, 360, width = 0.5, color = 'yellow')\n",
    "ax2.add_patch(Aperture)\n",
    "ax2.add_patch(SkyAnnulus1)\n",
    "ax2.add_patch(SkyAnnulus2)"
   ]
  },
  {
   "cell_type": "code",
   "execution_count": 21,
   "id": "7b9a0cb7",
   "metadata": {},
   "outputs": [
    {
     "name": "stderr",
     "output_type": "stream",
     "text": [
      "<ipython-input-21-8ef3210bad72>:2: DeprecationWarning: Please use `center_of_mass` from the `scipy.ndimage` namespace, the `scipy.ndimage.measurements` namespace is deprecated.\n",
      "  cenx, ceny = ndimage.measurements.center_of_mass(subimage)\n"
     ]
    },
    {
     "data": {
      "text/plain": [
       "<matplotlib.patches.Wedge at 0x7f1f5810db50>"
      ]
     },
     "execution_count": 21,
     "metadata": {},
     "output_type": "execute_result"
    },
    {
     "data": {
      "text/plain": [
       "<Figure size 432x288 with 0 Axes>"
      ]
     },
     "metadata": {},
     "output_type": "display_data"
    },
    {
     "data": {
      "image/png": "[encoded data removed]",
      "text/plain": [
       "<Figure size 432x288 with 1 Axes>"
      ]
     },
     "metadata": {
      "needs_background": "light"
     },
     "output_type": "display_data"
    }
   ],
   "source": [
    "subimage = image_data[2358:2558, 451:651]\n",
    "cenx, ceny = ndimage.measurements.center_of_mass(subimage)\n",
    "\n",
    "plt.figure()\n",
    "fig, ax2 = plt.subplots(1)\n",
    "ax2.imshow(subimage, cmap = 'gray', vmin = 10, vmax = 300, origin = 'lower')\n",
    "#ax2.scatter(cenx, ceny, 10)\n",
    "Aperture = Wedge((cenx, ceny), 35, 0, 360, width = 0.5, color = 'red')\n",
    "ax2.add_patch(Aperture)\n",
    "\n"
   ]
  },
  {
   "cell_type": "code",
   "execution_count": 22,
   "id": "e42cd25a",
   "metadata": {},
   "outputs": [
    {
     "name": "stdout",
     "output_type": "stream",
     "text": [
      "95.88906281752584\n",
      "95.75072115176246\n"
     ]
    },
    {
     "data": {
      "text/plain": [
       "11.68880061315543"
      ]
     },
     "execution_count": 22,
     "metadata": {},
     "output_type": "execute_result"
    }
   ],
   "source": [
    "print(cenx)\n",
    "print(ceny)\n",
    "\n",
    "def distance (x1, y1, x2, y2):\n",
    "    \n",
    "    d = ((x1 - x2) ** 2 + (y1 - y2) ** 2)**0.5\n",
    "    \n",
    "    return d\n",
    "\n",
    "distance(85, 100, cenx, ceny)"
   ]
  },
  {
   "cell_type": "code",
   "execution_count": 23,
   "id": "1bd131b2",
   "metadata": {},
   "outputs": [
    {
     "name": "stdout",
     "output_type": "stream",
     "text": [
      "[[16.00145355 10.10276331  6.38918824 ...  5.83246525 15.76540654\n",
      "  -4.14973047]\n",
      " [ 9.99723514  5.37671041  5.63378736 ... 11.48570543  5.08671107\n",
      "   8.34688921]\n",
      " [ 8.15609045  7.60741944 15.98844938 ...  5.59085893 13.39848608\n",
      "   5.81822579]\n",
      " ...\n",
      " [ 9.76144417  5.87117613  9.30897621 ...  9.37323391  8.40539603\n",
      "  13.72901734]\n",
      " [10.55900722 10.93954911  7.05675969 ...  8.83673727  7.21774843\n",
      "   9.69391259]\n",
      " [ 3.85287575  8.84003405  8.75565605 ...  9.03500883 12.56938763\n",
      "   7.91259126]]\n"
     ]
    }
   ],
   "source": [
    "print(subimage)"
   ]
  },
  {
   "cell_type": "code",
   "execution_count": 24,
   "id": "d48b6932",
   "metadata": {},
   "outputs": [],
   "source": [
    "aperture = image_data[2358:2558, 451:651]\n",
    "\n",
    "distance_array = np.zeros((200, 200))\n",
    "for i in range(200):\n",
    "    \n",
    "    for j in range(200):\n",
    "        \n",
    "        dist = distance(i, j, cenx, ceny)\n",
    "        distance_array[j][i] = dist\n",
    "\n",
    "        if dist > 14:\n",
    "\n",
    "            aperture[j][i] = aperture[j][i]\n",
    "\n",
    "        else:\n",
    "\n",
    "            aperture[j][i] = 1000\n"
   ]
  },
  {
   "cell_type": "code",
   "execution_count": 25,
   "id": "80001d5c",
   "metadata": {},
   "outputs": [
    {
     "name": "stdout",
     "output_type": "stream",
     "text": [
      "[[16.00145355 10.10276331  6.38918824 ...  5.83246525 15.76540654\n",
      "  -4.14973047]\n",
      " [ 9.99723514  5.37671041  5.63378736 ... 11.48570543  5.08671107\n",
      "   8.34688921]\n",
      " [ 8.15609045  7.60741944 15.98844938 ...  5.59085893 13.39848608\n",
      "   5.81822579]\n",
      " ...\n",
      " [ 9.76144417  5.87117613  9.30897621 ...  9.37323391  8.40539603\n",
      "  13.72901734]\n",
      " [10.55900722 10.93954911  7.05675969 ...  8.83673727  7.21774843\n",
      "   9.69391259]\n",
      " [ 3.85287575  8.84003405  8.75565605 ...  9.03500883 12.56938763\n",
      "   7.91259126]]\n"
     ]
    }
   ],
   "source": [
    "print(aperture)"
   ]
  },
  {
   "cell_type": "code",
   "execution_count": 26,
   "id": "b587b367",
   "metadata": {},
   "outputs": [
    {
     "name": "stdout",
     "output_type": "stream",
     "text": [
      "[[16.00145355 10.10276331  6.38918824 ...  5.83246525 15.76540654\n",
      "  -4.14973047]\n",
      " [ 9.99723514  5.37671041  5.63378736 ... 11.48570543  5.08671107\n",
      "   8.34688921]\n",
      " [ 8.15609045  7.60741944 15.98844938 ...  5.59085893 13.39848608\n",
      "   5.81822579]\n",
      " ...\n",
      " [ 9.76144417  5.87117613  9.30897621 ...  9.37323391  8.40539603\n",
      "  13.72901734]\n",
      " [10.55900722 10.93954911  7.05675969 ...  8.83673727  7.21774843\n",
      "   9.69391259]\n",
      " [ 3.85287575  8.84003405  8.75565605 ...  9.03500883 12.56938763\n",
      "   7.91259126]]\n"
     ]
    }
   ],
   "source": [
    "print(image_data[2358:2558, 451:651])"
   ]
  },
  {
   "cell_type": "code",
   "execution_count": 27,
   "id": "aaed1da7",
   "metadata": {},
   "outputs": [
    {
     "name": "stdout",
     "output_type": "stream",
     "text": [
      "10.228404251033524\n"
     ]
    }
   ],
   "source": [
    "image_data = fits.getdata('ECAM.2021-02-18T02_37_45.000.fitsred.fits')\n",
    "subimage = image_data[2358:2558, 451:651]\n",
    "\n",
    "def sky (subimage, skyrad1, skyrad2, cenx, ceny):\n",
    "    \n",
    "    sky_flux = []\n",
    "    \n",
    "    for i in range(200):\n",
    "    \n",
    "        for j in range(200):\n",
    "\n",
    "            dist = distance(i, j, cenx, ceny)\n",
    "\n",
    "            if (dist > skyrad1 and dist < skyrad2):\n",
    "\n",
    "                sky_flux.append(subimage[j][i]) \n",
    "    \n",
    "    return np.median(sky_flux)\n",
    "\n",
    "print(sky(subimage, 75, 85, cenx, ceny))"
   ]
  },
  {
   "cell_type": "code",
   "execution_count": 28,
   "id": "adc6c0e5",
   "metadata": {},
   "outputs": [],
   "source": [
    "image_data = fits.getdata('ECAM.2021-02-18T02_37_45.000.fitsred.fits')\n",
    "subimage = image_data[2358:2558, 451:651]\n",
    "\n",
    "def aperture(subimage, cenx, ceny, rad, skyflux):\n",
    "    \n",
    "    star_flux = subimage - 1. * subimage\n",
    "    \n",
    "    for i in range(200):\n",
    "    \n",
    "        for j in range(200):\n",
    "\n",
    "            dist = distance(i, j, cenx, ceny)\n",
    "\n",
    "            if dist < rad:\n",
    "\n",
    "                star_flux[j][i] = subimage[j][i] - skyflux\n",
    "            \n",
    "            else:\n",
    "                \n",
    "                star_flux[j][i] = 0\n",
    "    \n",
    "    return star_flux"
   ]
  },
  {
   "cell_type": "code",
   "execution_count": 29,
   "id": "87111e7f",
   "metadata": {},
   "outputs": [],
   "source": [
    "flux_1 = aperture(subimage, cenx, ceny, 14, sky(subimage, 35, 45, cenx, ceny))"
   ]
  },
  {
   "cell_type": "code",
   "execution_count": 30,
   "id": "89cbc3c5",
   "metadata": {},
   "outputs": [
    {
     "data": {
      "text/plain": [
       "<matplotlib.image.AxesImage at 0x7f1f57f3c340>"
      ]
     },
     "execution_count": 30,
     "metadata": {},
     "output_type": "execute_result"
    },
    {
     "data": {
      "text/plain": [
       "<Figure size 432x288 with 0 Axes>"
      ]
     },
     "metadata": {},
     "output_type": "display_data"
    },
    {
     "data": {
      "image/png": "[encoded data removed]",
      "text/plain": [
       "<Figure size 432x288 with 1 Axes>"
      ]
     },
     "metadata": {
      "needs_background": "light"
     },
     "output_type": "display_data"
    }
   ],
   "source": [
    "plt.figure()\n",
    "fig, ax2 = plt.subplots(1)\n",
    "ax2.imshow(flux_1, cmap = 'gray', vmin = 30, vmax = 300, origin = 'lower')"
   ]
  },
  {
   "cell_type": "code",
   "execution_count": 31,
   "id": "cc653ee6",
   "metadata": {},
   "outputs": [
    {
     "name": "stderr",
     "output_type": "stream",
     "text": [
      "<ipython-input-31-7b4c13f6de24>:2: DeprecationWarning: Please use `center_of_mass` from the `scipy.ndimage` namespace, the `scipy.ndimage.measurements` namespace is deprecated.\n",
      "  cenx, ceny = ndimage.measurements.center_of_mass(subimage)\n"
     ]
    }
   ],
   "source": [
    "subimage = image_data[2358:2558, 451:651]\n",
    "cenx, ceny = ndimage.measurements.center_of_mass(subimage)\n",
    "\n",
    "def find_center(subimage, cenx, ceny, centerrad):\n",
    "    \n",
    "    x = np.linspace(1, 200, 200)\n",
    "    y = np.linspace(1, 200, 200)\n",
    "    \n",
    "    cx = np.sum(x @ aperture(subimage, cenx, ceny, centerrad, sky(subimage, 35, 45, cenx, ceny))) / np.sum(flux_1)\n",
    "    cy = np.sum(y @ aperture(subimage, cenx, ceny, centerrad, sky(subimage, 35, 45, cenx, ceny)).T) / np.sum(flux_1)\n",
    "    \n",
    "    return cx, cy"
   ]
  },
  {
   "cell_type": "code",
   "execution_count": 32,
   "id": "e84af9de",
   "metadata": {},
   "outputs": [
    {
     "name": "stdout",
     "output_type": "stream",
     "text": [
      "96.61954310984973 96.53038035413532\n"
     ]
    }
   ],
   "source": [
    "cenx_best, ceny_best = find_center(subimage, cenx, ceny, 14)\n",
    "print(cenx_best, ceny_best)"
   ]
  },
  {
   "cell_type": "code",
   "execution_count": 33,
   "id": "c7ffa8c6",
   "metadata": {},
   "outputs": [],
   "source": [
    "# np.linspace(5,40,36)\n",
    "\n",
    "# for i in (np.linspace(5,40,36)):\n",
    "#     print(i)"
   ]
  },
  {
   "cell_type": "code",
   "execution_count": 34,
   "id": "e8e4407f",
   "metadata": {},
   "outputs": [],
   "source": [
    "aperture_flux = []\n",
    "flux_diff = [0]\n",
    "for i in np.linspace(5,80,36):\n",
    "    \n",
    "    flux = np.sum(aperture(subimage, cenx_best, ceny_best, i, sky(subimage, 85, 95, cenx_best, ceny_best)))\n",
    "    aperture_flux.append(flux)\n",
    "    \n",
    "    diff = -flux_diff[-1] + flux\n",
    "    flux_diff.append(diff)"
   ]
  },
  {
   "cell_type": "code",
   "execution_count": 35,
   "id": "ce604151",
   "metadata": {},
   "outputs": [
    {
     "data": {
      "text/plain": [
       "Text(0.5, 1.0, '35 pixels as aperture radius')"
      ]
     },
     "execution_count": 35,
     "metadata": {},
     "output_type": "execute_result"
    },
    {
     "data": {
      "image/png": "[encoded data removed]",
      "text/plain": [
       "<Figure size 432x288 with 1 Axes>"
      ]
     },
     "metadata": {
      "needs_background": "light"
     },
     "output_type": "display_data"
    }
   ],
   "source": [
    "plt.plot(np.linspace(5,80,36), aperture_flux)\n",
    "plt.xlabel('Radius of aperture (pixels)')\n",
    "plt.ylabel('Total Flux')\n",
    "plt.title('35 pixels as aperture radius')"
   ]
  },
  {
   "cell_type": "code",
   "execution_count": 36,
   "id": "4f6b27f3",
   "metadata": {},
   "outputs": [
    {
     "data": {
      "text/plain": [
       "<matplotlib.image.AxesImage at 0x7f1f5377a0d0>"
      ]
     },
     "execution_count": 36,
     "metadata": {},
     "output_type": "execute_result"
    },
    {
     "data": {
      "text/plain": [
       "<Figure size 432x288 with 0 Axes>"
      ]
     },
     "metadata": {},
     "output_type": "display_data"
    },
    {
     "data": {
      "image/png": "[encoded data removed]",
      "text/plain": [
       "<Figure size 432x288 with 1 Axes>"
      ]
     },
     "metadata": {
      "needs_background": "light"
     },
     "output_type": "display_data"
    }
   ],
   "source": [
    "flux_1 = aperture(subimage, cenx_best, ceny_best, 35, sky(subimage, 75, 85, cenx_best, ceny_best))\n",
    "\n",
    "plt.figure()\n",
    "fig, ax2 = plt.subplots(1)\n",
    "ax2.imshow(flux_1, cmap = 'gray', vmin = 30, vmax = 300, origin = 'lower')"
   ]
  },
  {
   "cell_type": "markdown",
   "id": "22bbd5d4",
   "metadata": {},
   "source": [
    "### Timeseries photometry part 5"
   ]
  },
  {
   "cell_type": "code",
   "execution_count": 37,
   "id": "d7913129",
   "metadata": {},
   "outputs": [],
   "source": [
    "f = open('imlist.txt', 'r')\n",
    "images = f.read().splitlines()\n",
    "f.close()\n",
    "\n",
    "nim = len(images)\n",
    "fluxarray1 = []"
   ]
  },
  {
   "cell_type": "code",
   "execution_count": 38,
   "id": "8330bead",
   "metadata": {},
   "outputs": [
    {
     "name": "stderr",
     "output_type": "stream",
     "text": [
      "<ipython-input-38-82f8591c81da>:6: DeprecationWarning: Please use `center_of_mass` from the `scipy.ndimage` namespace, the `scipy.ndimage.measurements` namespace is deprecated.\n",
      "  cenx, ceny = ndimage.measurements.center_of_mass(subimage)\n"
     ]
    }
   ],
   "source": [
    "for i in range(nim):\n",
    "    \n",
    "    image_data = fits.getdata(images[i])\n",
    "    subimage = image_data[2358:2558, 451:651]\n",
    "    \n",
    "    cenx, ceny = ndimage.measurements.center_of_mass(subimage)\n",
    "    \n",
    "    cenx, ceny = find_center(subimage, cenx, ceny, 14)\n",
    "    \n",
    "    skyflux = sky(subimage, 75, 85, cenx, ceny)\n",
    "    \n",
    "    flux = aperture(subimage, cenx, ceny, 35, skyflux)\n",
    "    \n",
    "    fluxarray1.append(flux)"
   ]
  },
  {
   "cell_type": "code",
   "execution_count": 39,
   "id": "ff9dd990",
   "metadata": {},
   "outputs": [
    {
     "name": "stdout",
     "output_type": "stream",
     "text": [
      "69\n"
     ]
    }
   ],
   "source": [
    "print(len(fluxarray1))"
   ]
  },
  {
   "cell_type": "markdown",
   "id": "c0a572cd",
   "metadata": {},
   "source": [
    "### Ref star 1"
   ]
  },
  {
   "cell_type": "code",
   "execution_count": 60,
   "id": "ba4d841d",
   "metadata": {},
   "outputs": [
    {
     "name": "stderr",
     "output_type": "stream",
     "text": [
      "<ipython-input-60-1b6b6b031b02>:3: DeprecationWarning: Please use `center_of_mass` from the `scipy.ndimage` namespace, the `scipy.ndimage.measurements` namespace is deprecated.\n",
      "  cenx1, ceny1 = ndimage.measurements.center_of_mass(subimage1)\n"
     ]
    },
    {
     "data": {
      "text/plain": [
       "<matplotlib.patches.Wedge at 0x7f1f51a80610>"
      ]
     },
     "execution_count": 60,
     "metadata": {},
     "output_type": "execute_result"
    },
    {
     "data": {
      "text/plain": [
       "<Figure size 432x288 with 0 Axes>"
      ]
     },
     "metadata": {},
     "output_type": "display_data"
    },
    {
     "data": {
      "image/png": "[encoded data removed]",
      "text/plain": [
       "<Figure size 432x288 with 1 Axes>"
      ]
     },
     "metadata": {
      "needs_background": "light"
     },
     "output_type": "display_data"
    }
   ],
   "source": [
    "image_data = fits.getdata(images[0])\n",
    "subimage1 = image_data[2520:2720, 97:297]\n",
    "cenx1, ceny1 = ndimage.measurements.center_of_mass(subimage1)\n",
    "\n",
    "plt.figure()\n",
    "fig, ax2 = plt.subplots(1)\n",
    "ax2.imshow(subimage, cmap = 'gray', vmin = -30, vmax = 300, origin = 'lower')\n",
    "ax2.scatter(cenx1, ceny1, 10)\n",
    "Aperture = Wedge((cenx1, ceny1), 35, 0, 360, width = 0.5, color = 'red')\n",
    "SkyAnnulus1 = Wedge((cenx1, ceny1), 65, 0, 360, width = 0.5, color = 'red')\n",
    "SkyAnnulus2 = Wedge((cenx1, ceny1), 75, 0, 360, width = 0.5, color = 'red')\n",
    "ax2.add_patch(Aperture)\n",
    "ax2.add_patch(SkyAnnulus1)\n",
    "ax2.add_patch(SkyAnnulus2)"
   ]
  },
  {
   "cell_type": "code",
   "execution_count": 61,
   "id": "e2de8ff0",
   "metadata": {},
   "outputs": [
    {
     "data": {
      "text/plain": [
       "<matplotlib.image.AxesImage at 0x7f1f51acf0d0>"
      ]
     },
     "execution_count": 61,
     "metadata": {},
     "output_type": "execute_result"
    },
    {
     "data": {
      "text/plain": [
       "<Figure size 432x288 with 0 Axes>"
      ]
     },
     "metadata": {},
     "output_type": "display_data"
    },
    {
     "data": {
      "image/png": "[encoded data removed]",
      "text/plain": [
       "<Figure size 432x288 with 1 Axes>"
      ]
     },
     "metadata": {
      "needs_background": "light"
     },
     "output_type": "display_data"
    }
   ],
   "source": [
    "cenx1, ceny1 = find_center(subimage1, cenx1, ceny1, 35)\n",
    "\n",
    "flux_1 = aperture(subimage1, cenx1, ceny1, 35, sky(subimage1, 75, 85, cenx1, ceny1))\n",
    "\n",
    "plt.figure()\n",
    "fig, ax2 = plt.subplots(1)\n",
    "ax2.imshow(flux_1, cmap = 'gray', vmin = 35, vmax = 300, origin = 'lower')"
   ]
  },
  {
   "cell_type": "code",
   "execution_count": 62,
   "id": "8d64b4ba",
   "metadata": {},
   "outputs": [],
   "source": [
    "aperture_flux1 = []\n",
    "for i in np.linspace(5,80,36):\n",
    "    \n",
    "    flux1 = np.sum(aperture(subimage1, cenx1, ceny1, i, sky(subimage1, 75, 85, cenx1, ceny1)))\n",
    "    aperture_flux1.append(flux1)"
   ]
  },
  {
   "cell_type": "code",
   "execution_count": 63,
   "id": "94a2d2da",
   "metadata": {},
   "outputs": [
    {
     "data": {
      "text/plain": [
       "Text(0.5, 1.0, '35 pixels as aperture radius')"
      ]
     },
     "execution_count": 63,
     "metadata": {},
     "output_type": "execute_result"
    },
    {
     "data": {
      "image/png": "[encoded data removed]",
      "text/plain": [
       "<Figure size 432x288 with 1 Axes>"
      ]
     },
     "metadata": {
      "needs_background": "light"
     },
     "output_type": "display_data"
    }
   ],
   "source": [
    "plt.plot(np.linspace(5,40,36), aperture_flux1)\n",
    "plt.xlabel('Radius of aperture (pixels)')\n",
    "plt.ylabel('Total Flux')\n",
    "plt.title('35 pixels as aperture radius')"
   ]
  },
  {
   "cell_type": "code",
   "execution_count": 44,
   "id": "a9559242",
   "metadata": {},
   "outputs": [
    {
     "name": "stderr",
     "output_type": "stream",
     "text": [
      "<ipython-input-44-b4836c0a58c2>:8: DeprecationWarning: Please use `center_of_mass` from the `scipy.ndimage` namespace, the `scipy.ndimage.measurements` namespace is deprecated.\n",
      "  cenx, ceny = ndimage.measurements.center_of_mass(subimage)\n"
     ]
    }
   ],
   "source": [
    "fluxarray2 = []\n",
    "\n",
    "for i in range(nim):\n",
    "    \n",
    "    image_data = fits.getdata(images[i])\n",
    "    subimage = image_data[2523:2723, 105:305]\n",
    "    \n",
    "    cenx, ceny = ndimage.measurements.center_of_mass(subimage)\n",
    "    \n",
    "    cenx, ceny = find_center(subimage, cenx, ceny, 35)\n",
    "    \n",
    "    skyflux = sky(subimage, 75, 85, cenx, ceny)\n",
    "    \n",
    "    flux = aperture(subimage, cenx, ceny, 35, skyflux)\n",
    "    \n",
    "    fluxarray2.append(flux)"
   ]
  },
  {
   "cell_type": "code",
   "execution_count": 45,
   "id": "9908dd72",
   "metadata": {},
   "outputs": [
    {
     "name": "stdout",
     "output_type": "stream",
     "text": [
      "69\n"
     ]
    }
   ],
   "source": [
    "print(len(fluxarray2))"
   ]
  },
  {
   "cell_type": "markdown",
   "id": "d150ae35",
   "metadata": {},
   "source": [
    "### Ref star 2"
   ]
  },
  {
   "cell_type": "code",
   "execution_count": 46,
   "id": "1acccdae",
   "metadata": {},
   "outputs": [
    {
     "name": "stdout",
     "output_type": "stream",
     "text": [
      "69\n"
     ]
    }
   ],
   "source": [
    "timearray = []\n",
    "\n",
    "for i in range(len(raw)):\n",
    "\n",
    "    fitsfile = fits.open(raw[i])\n",
    "    time = fitsfile[0].header['MJD-OBS']\n",
    "    \n",
    "    timearray.append(time)\n",
    "    \n",
    "print(len(timearray))"
   ]
  },
  {
   "cell_type": "code",
   "execution_count": 47,
   "id": "d64d7bb4",
   "metadata": {},
   "outputs": [
    {
     "name": "stdout",
     "output_type": "stream",
     "text": [
      "[59263.0353990085, 59263.0375147611, 59263.0396324322, 59263.0418306738, 59263.0439457186, 59263.0461536385, 59263.0482647605, 59263.0503773056, 59263.0524868406, 59263.0545970947, 59263.0568000115, 59263.0589130074, 59263.0610231422, 59263.063217476, 59263.0653278902, 59263.0675197989, 59263.0696277171, 59263.0717385486, 59263.0739369318, 59263.0760528073, 59263.0781635568, 59263.0803588033, 59263.0824723467, 59263.0845871344, 59263.086702846, 59263.0889071897, 59263.0910214707, 59263.0932226777, 59263.0953310132, 59263.0974448919, 59263.0995517299, 59263.1016624346, 59263.1037760973, 59263.1058845147, 59263.1079966351, 59263.1101335958, 59263.1122428477, 59263.1143602207, 59263.1164723337, 59263.1185850129, 59263.1207046732, 59263.122815758, 59263.1249252781, 59263.127055347, 59263.1291689426, 59263.1312836856, 59263.1334000528, 59263.135515511, 59263.1376304775, 59263.1397398263, 59263.1418511719, 59263.1439644247, 59263.1460780054, 59263.1481869668, 59263.1503015608, 59263.1525164247, 59263.154706642, 59263.1568191797, 59263.1589330584, 59263.1610446721, 59263.1631619185, 59263.165274933, 59263.1673890501, 59263.1695039272, 59263.1716187149, 59263.1737339348, 59263.1758469343, 59263.1779601723, 59263.1800739318]\n"
     ]
    }
   ],
   "source": [
    "print(timearray)\n"
   ]
  },
  {
   "cell_type": "markdown",
   "id": "71472c24",
   "metadata": {},
   "source": [
    "### Relative Photometry part 6"
   ]
  },
  {
   "cell_type": "code",
   "execution_count": 48,
   "id": "edb3b39f",
   "metadata": {},
   "outputs": [],
   "source": [
    "rel_flux = np.zeros(len(timearray))\n",
    "\n",
    "for i in range(len(fluxarray1)):\n",
    "    \n",
    "    relflux = np.sum(fluxarray1[i]) / np.sum(fluxarray2[i])\n",
    "    \n",
    "    rel_flux[i] = relflux"
   ]
  },
  {
   "cell_type": "code",
   "execution_count": 49,
   "id": "1e794d09",
   "metadata": {},
   "outputs": [
    {
     "name": "stdout",
     "output_type": "stream",
     "text": [
      "[0.89577619 0.89653383 0.89751761 0.89737735 0.89687867 0.89711653\n",
      " 0.89615075 0.89671804 0.89552296 0.89514694 0.89674636 0.89622534\n",
      " 0.8968582  0.89676111 0.89894309 0.8968943  0.89476966 0.89499097\n",
      " 0.89153231 0.89053759 0.88858974 0.88653668 0.88726529 0.88471046\n",
      " 0.88242297 0.88590686 0.8864231  0.88501146 0.88447593 0.88534759\n",
      " 0.88615564 0.88612868 0.88412945 0.88520393 0.88425273 0.88510196\n",
      " 0.88376551 0.88397796 0.88455606 0.88350832 0.88335032 0.88331245\n",
      " 0.88509763 0.8851101  0.8842939  0.88482825 0.88561973 0.88415086\n",
      " 0.88651748 0.88544182 0.88653075 0.88896294 0.89109165 0.89217826\n",
      " 0.89251735 0.89749454 0.89771132 0.89527566 0.89431963 0.902793\n",
      " 0.89687413 0.89559415 0.89446404 0.89349789 0.89384505 0.89465146\n",
      " 0.89386099 0.89224213 0.89440743]\n"
     ]
    }
   ],
   "source": [
    "print((rel_flux))"
   ]
  },
  {
   "cell_type": "code",
   "execution_count": 50,
   "id": "9e724c2d",
   "metadata": {},
   "outputs": [
    {
     "data": {
      "text/plain": [
       "[<matplotlib.lines.Line2D at 0x7f1f53763340>]"
      ]
     },
     "execution_count": 50,
     "metadata": {},
     "output_type": "execute_result"
    },
    {
     "data": {
      "image/png": "[encoded data removed]",
      "text/plain": [
       "<Figure size 432x288 with 1 Axes>"
      ]
     },
     "metadata": {
      "needs_background": "light"
     },
     "output_type": "display_data"
    }
   ],
   "source": [
    "plt.plot(timearray, rel_flux, '.')"
   ]
  },
  {
   "cell_type": "code",
   "execution_count": 51,
   "id": "6f094a4b",
   "metadata": {},
   "outputs": [
    {
     "name": "stdout",
     "output_type": "stream",
     "text": [
      "[0, 1, 2, 3, 4, 5, 6, 7, 8, 9, 10, 11, 12, 13, 14, 15, 16, 17, 55, 56, 57, 58, 59, 60, 61, 62, 63, 64, 65, 66, 67, 68]\n"
     ]
    }
   ],
   "source": [
    "timearray_frac = np.array([x - 5.9263e4 for x in timearray])\n",
    "#print(timearray_frac)\n",
    "timearray = np.array(timearray)\n",
    "\n",
    "out_of_transit = np.where(timearray_frac < 0.073)[0].tolist() + np.where(timearray_frac > 0.152)[0].tolist()\n",
    "avg_oot = np.mean(np.array(rel_flux)[out_of_transit])\n",
    "\n",
    "print(out_of_transit)"
   ]
  },
  {
   "cell_type": "code",
   "execution_count": 52,
   "id": "6c0478d4",
   "metadata": {},
   "outputs": [
    {
     "data": {
      "text/plain": [
       "[<matplotlib.lines.Line2D at 0x7f1f51c9be80>]"
      ]
     },
     "execution_count": 52,
     "metadata": {},
     "output_type": "execute_result"
    },
    {
     "data": {
      "image/png": "[encoded data removed]",
      "text/plain": [
       "<Figure size 432x288 with 1 Axes>"
      ]
     },
     "metadata": {
      "needs_background": "light"
     },
     "output_type": "display_data"
    }
   ],
   "source": [
    "plt.plot(timearray, rel_flux, '.')\n",
    "plt.plot(np.array(timearray)[out_of_transit], np.array(rel_flux)[out_of_transit], '.')"
   ]
  },
  {
   "cell_type": "code",
   "execution_count": 54,
   "id": "b2b3d4f2",
   "metadata": {},
   "outputs": [],
   "source": [
    "outfile = 'lightcurve.dat'\n",
    "of = open(outfile, 'w')\n",
    "for i in range(nim):\n",
    "    of.write('%15.6f %15.6f' % (timearray[i], rel_flux_norm[i]))\n",
    "of.close()"
   ]
  },
  {
   "cell_type": "code",
   "execution_count": 55,
   "id": "83ebf434",
   "metadata": {},
   "outputs": [
    {
     "name": "stdout",
     "output_type": "stream",
     "text": [
      "0.9873995029355115\n",
      "Transit depth: 0.012600497064488514\n"
     ]
    }
   ],
   "source": [
    "## Transit depth\n",
    "\n",
    "t2= 23\n",
    "t3 = 49\n",
    "\n",
    "in_transit_flux = np.mean(rel_flux_norm[t2:t3+1])\n",
    "\n",
    "print(in_transit_flux)\n",
    "\n",
    "depth = 1 - in_transit_flux\n",
    "print('Transit depth:',depth)"
   ]
  },
  {
   "cell_type": "code",
   "execution_count": 59,
   "id": "a7cbba44",
   "metadata": {},
   "outputs": [
    {
     "data": {
      "text/plain": [
       "<matplotlib.legend.Legend at 0x7f1f51b02550>"
      ]
     },
     "execution_count": 59,
     "metadata": {},
     "output_type": "execute_result"
    },
    {
     "data": {
      "image/png": "[encoded data removed]",
      "text/plain": [
       "<Figure size 432x288 with 1 Axes>"
      ]
     },
     "metadata": {
      "needs_background": "light"
     },
     "output_type": "display_data"
    }
   ],
   "source": [
    "rel_flux_norm = np.array(rel_flux) / avg_oot\n",
    "\n",
    "plt.plot(timearray + 2400000, rel_flux_norm, '.', label = 'Lightcurve')\n",
    "plt.plot(timearray[t2:t3+1]+ 2400000, rel_flux_norm[t2:t3+1], '.', label = 'In-transit flux')\n",
    "plt.xlabel('Time (BJD)')\n",
    "plt.ylabel('Normalized Flux')\n",
    "plt.legend()"
   ]
  },
  {
   "cell_type": "code",
   "execution_count": 57,
   "id": "78a81486",
   "metadata": {},
   "outputs": [
    {
     "name": "stdout",
     "output_type": "stream",
     "text": [
      "Radius of WASP-49b: 1.0063 +- 0.123 Rjup\n",
      "Semi-major axis: 0.0428 AU\n",
      "Teq: 1238.0749 K\n"
     ]
    }
   ],
   "source": [
    "r_s = 0.9 * 696340/69911  ## Solar radius in terms of jupitr radius\n",
    "e_r_s = 0.11 * 696340/69911\n",
    "\n",
    "r_p = depth ** .5 * r_s\n",
    "\n",
    "e_r_p = r_p * e_r_s / r_s\n",
    "\n",
    "print('Radius of WASP-49b:', round(r_p, 4), '+-', round(e_r_p, 4), 'Rjup')\n",
    "\n",
    "t14 = 0.152 - 0.07  ## days\n",
    "t23 = 0.14 - 0.082  ## days\n",
    "\n",
    "a = 0.9 * 0.00465047 * 2 * 2.78 / np.pi * depth ** .25 / (t14 **2 - t23 **2) ** .5\n",
    "\n",
    "print('Semi-major axis:', round(a, 4), 'AU')\n",
    "\n",
    "\n",
    "temp_star = 5600\n",
    "temp_eq = temp_star * (0.9 * 0.00465047 / 2 / a) ** .5\n",
    "\n",
    "print('Teq:', round(temp_eq, 4), 'K')"
   ]
  },
  {
   "cell_type": "code",
   "execution_count": null,
   "id": "3dac600a",
   "metadata": {},
   "outputs": [],
   "source": []
  }
 ],
 "metadata": {
  "kernelspec": {
   "display_name": "Python 3",
   "language": "python",
   "name": "python3"
  },
  "language_info": {
   "codemirror_mode": {
    "name": "ipython",
    "version": 3
   },
   "file_extension": ".py",
   "mimetype": "text/x-python",
   "name": "python",
   "nbconvert_exporter": "python",
   "pygments_lexer": "ipython3",
   "version": "3.8.8"
  }
 },
 "nbformat": 4,
 "nbformat_minor": 5
}
